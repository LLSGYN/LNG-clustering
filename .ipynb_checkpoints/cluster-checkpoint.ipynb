{
 "cells": [
  {
   "cell_type": "code",
   "execution_count": 1,
   "id": "c07de1e9",
   "metadata": {},
   "outputs": [],
   "source": [
    "import numpy as np\n",
    "import pandas as pd\n",
    "import matplotlib.pyplot as plt\n",
    "\n",
    "from sklearn.cluster import DBSCAN\n",
    "from sklearn.metrics.pairwise import haversine_distances"
   ]
  },
  {
   "cell_type": "code",
   "execution_count": 2,
   "id": "04a53448",
   "metadata": {},
   "outputs": [],
   "source": [
    "def get_centeroid(cluster):\n",
    "    clustering = MeanShift(bandwidth=2 / 6371, n_jobs=-1, max_iter=100).fit(\n",
    "        np.radians(cluster)\n",
    "    )\n",
    "    return clustering.cluster_centers_\n",
    "# \tlon, lat = 0, 0\n",
    "# \tfor row in cluster.itertuples(index=False):\n",
    "# \t\tlat += row.lat\n",
    "# \t\tlon += row.lon\n",
    "# \treturn [lat / len(cluster), lon / len(cluster)] # [longitude, latitude]"
   ]
  },
  {
   "cell_type": "code",
   "execution_count": 3,
   "id": "659a565b",
   "metadata": {},
   "outputs": [],
   "source": [
    "def _dbscan(df, eps_rad, msp, filter_speed=True):\n",
    "\t# filter the speed\n",
    "\tif filter_speed:\n",
    "\t\tdf = df[df['speed'] <= 1]\n",
    "\tdf = df.sample(frac=1 if len(df) <= 48000 else 48000/len(df))\n",
    "\tif len(df) == 0:\n",
    "\t\treturn None\n",
    "\n",
    "\t\n",
    "\tcoords = df[['lat', 'lon']]\n",
    "\tdb = DBSCAN(eps=eps_rad, min_samples=msp, algorithm='ball_tree', metric='haversine', n_jobs=12).fit(np.radians(coords))\n",
    "\tcluster_lables = db.labels_\n",
    "\tn_clusters = len(set(cluster_lables)) - (1 if -1 in cluster_lables else 0)\n",
    "\tn_noise_ = list(cluster_lables).count(-1)\n",
    "\tif n_clusters == 0:\n",
    "\t\treturn None\n",
    "\n",
    "\tclusters = pd.Series([coords[cluster_lables == n] for n in range(n_clusters)])\n",
    "\tcenters = clusters.map(get_centeroid).tolist()\n",
    "\treturn centers"
   ]
  },
  {
   "cell_type": "code",
   "execution_count": 4,
   "id": "31a3dbe3",
   "metadata": {},
   "outputs": [],
   "source": [
    "def closest_node(node, nodes):\n",
    "\tclosest_index, dist = -1, 1e12\n",
    "\tfor i in range(len(nodes)):\n",
    "\t\tcurdis = haversine_distances(np.radians([node]), np.radians([nodes[i]]))[0][0] * 6371\n",
    "\t\tif curdis < dist:\n",
    "\t\t\tdist, closest_index = curdis, i\n",
    "\n",
    "\t# if dist < 50:\n",
    "\t# \tprint(\"{}\\t{},{}\\t{},{}\".format(dist, node[0], node[1], nodes[closest_index][0], nodes[closest_index][1]))\n",
    "\treturn closest_index if dist < 15 else -1"
   ]
  },
  {
   "cell_type": "code",
   "execution_count": 5,
   "id": "f8968b8a",
   "metadata": {},
   "outputs": [
    {
     "name": "stdout",
     "output_type": "stream",
     "text": [
      "<class 'pandas.core.frame.DataFrame'>\n",
      "RangeIndex: 7896919 entries, 0 to 7896918\n",
      "Data columns (total 8 columns):\n",
      " #   Column     Dtype  \n",
      "---  ------     -----  \n",
      " 0   mmsi       int64  \n",
      " 1   timestamp  int64  \n",
      " 2   speed      int64  \n",
      " 3   status     int64  \n",
      " 4   lon        float64\n",
      " 5   lat        float64\n",
      " 6   draught    float64\n",
      " 7   geohash    uint64 \n",
      "dtypes: float64(3), int64(4), uint64(1)\n",
      "memory usage: 482.0 MB\n",
      "None\n"
     ]
    }
   ],
   "source": [
    "data = pd.read_csv('solved.csv', delim_whitespace=True)\n",
    "data['geohash'] = pd.to_numeric(data['geohash'])\n",
    "print(data.info())\n",
    "\n",
    "dflist = [[] for _ in range(256)]\n",
    "for row in data.itertuples(index=False):\n",
    "    dflist[row.geohash >> 56].append(row)"
   ]
  },
  {
   "cell_type": "code",
   "execution_count": 6,
   "id": "70d3dd73",
   "metadata": {},
   "outputs": [
    {
     "name": "stdout",
     "output_type": "stream",
     "text": [
      "---Block 0 finished---\n",
      "---Block 1 finished---\n",
      "---Block 2 finished---\n",
      "---Block 3 finished---\n",
      "---Block 4 finished---\n",
      "---Block 5 finished---\n",
      "---Block 6 finished---\n",
      "---Block 7 finished---\n",
      "---Block 8 finished---\n",
      "---Block 9 finished---\n",
      "---Block 10 finished---\n",
      "---Block 11 finished---\n",
      "---Block 12 finished---\n",
      "---Block 13 finished---\n",
      "---Block 14 finished---\n",
      "---Block 15 finished---\n",
      "---Block 16 finished---\n",
      "---Block 17 finished---\n",
      "---Block 18 finished---\n",
      "---Block 19 finished---\n",
      "---Block 20 finished---\n",
      "---Block 21 finished---\n",
      "---Block 22 finished---\n",
      "---Block 23 finished---\n",
      "---Block 24 finished---\n",
      "---Block 25 finished---\n",
      "---Block 26 finished---\n",
      "---Block 27 finished---\n",
      "---Block 28 finished---\n",
      "---Block 29 finished---\n",
      "---Block 30 finished---\n",
      "---Block 31 finished---\n",
      "---Block 32 finished---\n",
      "---Block 33 finished---\n",
      "---Block 34 finished---\n",
      "---Block 35 finished---\n",
      "---Block 36 finished---\n"
     ]
    },
    {
     "ename": "NameError",
     "evalue": "name 'MeanShift' is not defined",
     "output_type": "error",
     "traceback": [
      "\u001b[0;31m---------------------------------------------------------------------------\u001b[0m",
      "\u001b[0;31mNameError\u001b[0m                                 Traceback (most recent call last)",
      "\u001b[0;32m/tmp/ipykernel_7966/1732233942.py\u001b[0m in \u001b[0;36m<module>\u001b[0;34m\u001b[0m\n\u001b[1;32m      7\u001b[0m     \u001b[0mdf\u001b[0m \u001b[0;34m=\u001b[0m \u001b[0mpd\u001b[0m\u001b[0;34m.\u001b[0m\u001b[0mDataFrame\u001b[0m\u001b[0;34m.\u001b[0m\u001b[0mfrom_records\u001b[0m\u001b[0;34m(\u001b[0m\u001b[0mdflist\u001b[0m\u001b[0;34m[\u001b[0m\u001b[0mi\u001b[0m\u001b[0;34m]\u001b[0m\u001b[0;34m,\u001b[0m \u001b[0mcolumns\u001b[0m\u001b[0;34m=\u001b[0m\u001b[0mcolNames\u001b[0m\u001b[0;34m)\u001b[0m\u001b[0;34m\u001b[0m\u001b[0;34m\u001b[0m\u001b[0m\n\u001b[1;32m      8\u001b[0m     \u001b[0;31m# res = _dbscan(df, eps_rad, 500)\u001b[0m\u001b[0;34m\u001b[0m\u001b[0;34m\u001b[0m\u001b[0;34m\u001b[0m\u001b[0m\n\u001b[0;32m----> 9\u001b[0;31m     \u001b[0mres\u001b[0m \u001b[0;34m=\u001b[0m \u001b[0m_dbscan\u001b[0m\u001b[0;34m(\u001b[0m\u001b[0mdf\u001b[0m\u001b[0;34m,\u001b[0m \u001b[0meps_rad\u001b[0m\u001b[0;34m,\u001b[0m \u001b[0;36m500\u001b[0m\u001b[0;34m)\u001b[0m\u001b[0;34m\u001b[0m\u001b[0;34m\u001b[0m\u001b[0m\n\u001b[0m\u001b[1;32m     10\u001b[0m     \u001b[0mprint\u001b[0m\u001b[0;34m(\u001b[0m\u001b[0;34m\"---Block {} finished---\"\u001b[0m\u001b[0;34m.\u001b[0m\u001b[0mformat\u001b[0m\u001b[0;34m(\u001b[0m\u001b[0mi\u001b[0m\u001b[0;34m)\u001b[0m\u001b[0;34m)\u001b[0m\u001b[0;34m\u001b[0m\u001b[0;34m\u001b[0m\u001b[0m\n\u001b[1;32m     11\u001b[0m     \u001b[0;32mif\u001b[0m \u001b[0mres\u001b[0m \u001b[0;32mis\u001b[0m \u001b[0;32mNone\u001b[0m\u001b[0;34m:\u001b[0m\u001b[0;34m\u001b[0m\u001b[0;34m\u001b[0m\u001b[0m\n",
      "\u001b[0;32m/tmp/ipykernel_7966/881754070.py\u001b[0m in \u001b[0;36m_dbscan\u001b[0;34m(df, eps_rad, msp, filter_speed)\u001b[0m\n\u001b[1;32m     17\u001b[0m \u001b[0;34m\u001b[0m\u001b[0m\n\u001b[1;32m     18\u001b[0m         \u001b[0mclusters\u001b[0m \u001b[0;34m=\u001b[0m \u001b[0mpd\u001b[0m\u001b[0;34m.\u001b[0m\u001b[0mSeries\u001b[0m\u001b[0;34m(\u001b[0m\u001b[0;34m[\u001b[0m\u001b[0mcoords\u001b[0m\u001b[0;34m[\u001b[0m\u001b[0mcluster_lables\u001b[0m \u001b[0;34m==\u001b[0m \u001b[0mn\u001b[0m\u001b[0;34m]\u001b[0m \u001b[0;32mfor\u001b[0m \u001b[0mn\u001b[0m \u001b[0;32min\u001b[0m \u001b[0mrange\u001b[0m\u001b[0;34m(\u001b[0m\u001b[0mn_clusters\u001b[0m\u001b[0;34m)\u001b[0m\u001b[0;34m]\u001b[0m\u001b[0;34m)\u001b[0m\u001b[0;34m\u001b[0m\u001b[0;34m\u001b[0m\u001b[0m\n\u001b[0;32m---> 19\u001b[0;31m         \u001b[0mcenters\u001b[0m \u001b[0;34m=\u001b[0m \u001b[0mclusters\u001b[0m\u001b[0;34m.\u001b[0m\u001b[0mmap\u001b[0m\u001b[0;34m(\u001b[0m\u001b[0mget_centeroid\u001b[0m\u001b[0;34m)\u001b[0m\u001b[0;34m.\u001b[0m\u001b[0mtolist\u001b[0m\u001b[0;34m(\u001b[0m\u001b[0;34m)\u001b[0m\u001b[0;34m\u001b[0m\u001b[0;34m\u001b[0m\u001b[0m\n\u001b[0m\u001b[1;32m     20\u001b[0m         \u001b[0;32mreturn\u001b[0m \u001b[0mcenters\u001b[0m\u001b[0;34m\u001b[0m\u001b[0;34m\u001b[0m\u001b[0m\n",
      "\u001b[0;32m~/.local/lib/python3.8/site-packages/pandas/core/series.py\u001b[0m in \u001b[0;36mmap\u001b[0;34m(self, arg, na_action)\u001b[0m\n\u001b[1;32m   4159\u001b[0m         \u001b[0mdtype\u001b[0m\u001b[0;34m:\u001b[0m \u001b[0mobject\u001b[0m\u001b[0;34m\u001b[0m\u001b[0;34m\u001b[0m\u001b[0m\n\u001b[1;32m   4160\u001b[0m         \"\"\"\n\u001b[0;32m-> 4161\u001b[0;31m         \u001b[0mnew_values\u001b[0m \u001b[0;34m=\u001b[0m \u001b[0msuper\u001b[0m\u001b[0;34m(\u001b[0m\u001b[0;34m)\u001b[0m\u001b[0;34m.\u001b[0m\u001b[0m_map_values\u001b[0m\u001b[0;34m(\u001b[0m\u001b[0marg\u001b[0m\u001b[0;34m,\u001b[0m \u001b[0mna_action\u001b[0m\u001b[0;34m=\u001b[0m\u001b[0mna_action\u001b[0m\u001b[0;34m)\u001b[0m\u001b[0;34m\u001b[0m\u001b[0;34m\u001b[0m\u001b[0m\n\u001b[0m\u001b[1;32m   4162\u001b[0m         return self._constructor(new_values, index=self.index).__finalize__(\n\u001b[1;32m   4163\u001b[0m             \u001b[0mself\u001b[0m\u001b[0;34m,\u001b[0m \u001b[0mmethod\u001b[0m\u001b[0;34m=\u001b[0m\u001b[0;34m\"map\"\u001b[0m\u001b[0;34m\u001b[0m\u001b[0;34m\u001b[0m\u001b[0m\n",
      "\u001b[0;32m~/.local/lib/python3.8/site-packages/pandas/core/base.py\u001b[0m in \u001b[0;36m_map_values\u001b[0;34m(self, mapper, na_action)\u001b[0m\n\u001b[1;32m    868\u001b[0m \u001b[0;34m\u001b[0m\u001b[0m\n\u001b[1;32m    869\u001b[0m         \u001b[0;31m# mapper is a function\u001b[0m\u001b[0;34m\u001b[0m\u001b[0;34m\u001b[0m\u001b[0;34m\u001b[0m\u001b[0m\n\u001b[0;32m--> 870\u001b[0;31m         \u001b[0mnew_values\u001b[0m \u001b[0;34m=\u001b[0m \u001b[0mmap_f\u001b[0m\u001b[0;34m(\u001b[0m\u001b[0mvalues\u001b[0m\u001b[0;34m,\u001b[0m \u001b[0mmapper\u001b[0m\u001b[0;34m)\u001b[0m\u001b[0;34m\u001b[0m\u001b[0;34m\u001b[0m\u001b[0m\n\u001b[0m\u001b[1;32m    871\u001b[0m \u001b[0;34m\u001b[0m\u001b[0m\n\u001b[1;32m    872\u001b[0m         \u001b[0;32mreturn\u001b[0m \u001b[0mnew_values\u001b[0m\u001b[0;34m\u001b[0m\u001b[0;34m\u001b[0m\u001b[0m\n",
      "\u001b[0;32m~/.local/lib/python3.8/site-packages/pandas/_libs/lib.pyx\u001b[0m in \u001b[0;36mpandas._libs.lib.map_infer\u001b[0;34m()\u001b[0m\n",
      "\u001b[0;32m/tmp/ipykernel_7966/4014126700.py\u001b[0m in \u001b[0;36mget_centeroid\u001b[0;34m(cluster)\u001b[0m\n\u001b[1;32m      1\u001b[0m \u001b[0;32mdef\u001b[0m \u001b[0mget_centeroid\u001b[0m\u001b[0;34m(\u001b[0m\u001b[0mcluster\u001b[0m\u001b[0;34m)\u001b[0m\u001b[0;34m:\u001b[0m\u001b[0;34m\u001b[0m\u001b[0;34m\u001b[0m\u001b[0m\n\u001b[0;32m----> 2\u001b[0;31m     clustering = MeanShift(bandwidth=2 / 6371, n_jobs=-1, max_iter=100).fit(\n\u001b[0m\u001b[1;32m      3\u001b[0m         \u001b[0mnp\u001b[0m\u001b[0;34m.\u001b[0m\u001b[0mradians\u001b[0m\u001b[0;34m(\u001b[0m\u001b[0mcluster\u001b[0m\u001b[0;34m)\u001b[0m\u001b[0;34m\u001b[0m\u001b[0;34m\u001b[0m\u001b[0m\n\u001b[1;32m      4\u001b[0m     )\n\u001b[1;32m      5\u001b[0m     \u001b[0;32mreturn\u001b[0m \u001b[0mclustering\u001b[0m\u001b[0;34m.\u001b[0m\u001b[0mcluster_centers_\u001b[0m\u001b[0;34m\u001b[0m\u001b[0;34m\u001b[0m\u001b[0m\n",
      "\u001b[0;31mNameError\u001b[0m: name 'MeanShift' is not defined"
     ]
    }
   ],
   "source": [
    "colNames = ['mmsi', 'timestamp', 'status', 'speed', 'lon', 'lat', 'draught', 'geohash']\n",
    "kms_per_radian = 6371.\n",
    "# eps_rad = 5 / kms_per_radian\n",
    "eps_rad = 1 / kms_per_radian\n",
    "centers = []\n",
    "for i in range(256):\n",
    "    df = pd.DataFrame.from_records(dflist[i], columns=colNames)\n",
    "    # res = _dbscan(df, eps_rad, 500)\n",
    "    res = _dbscan(df, eps_rad, 500)\n",
    "    print(\"---Block {} finished---\".format(i))\n",
    "    if res is None:\n",
    "        continue\n",
    "    centers.extend(res)"
   ]
  },
  {
   "cell_type": "code",
   "execution_count": null,
   "id": "33ab1503",
   "metadata": {},
   "outputs": [],
   "source": [
    "centers = pd.DataFrame(centers, columns=['lat', 'lon'])\n",
    "result = _dbscan(centers, 5/kms_per_radian, 1, False)\n",
    "\n",
    "prev, flg = None, 0\n",
    "incls, total = 0, 0\n",
    "stat = [0 for _ in range(len(result))]\n",
    "for row in data.itertuples(index=False):\n",
    "    if flg == 0:\n",
    "        flg += 1\n",
    "    elif abs(row.draught - prev.draught) > 2 and row.mmsi == prev.mmsi:\n",
    "        # cls = closest_node([data.iloc[i].lat, data.iloc[i].lon], [[-89, 179], [0, 0], [12, 34], [56, 78]])\n",
    "        cls = closest_node([row.lat, row.lon], result)\n",
    "        total += 1\n",
    "        incls += 1 if cls != -1 else 0\n",
    "        # stat[cls] += 1\n",
    "        stat[cls] += 2 if row.draught > prev.draught else -1\n",
    "\n",
    "    prev = row"
   ]
  },
  {
   "cell_type": "code",
   "execution_count": null,
   "id": "84b562db",
   "metadata": {},
   "outputs": [],
   "source": [
    "print(len(result))\n",
    "print(incls / total * 100)\n",
    "print(stat)\n",
    "lngs = [result[i] for i, e in enumerate(stat) if abs(e) > 4]\n",
    "# check = [[result[i], stat[i]] for i, e in enumerate(stat) if abs(e) > 3]\n",
    "print(len(lngs))\n",
    "print(lngs)"
   ]
  },
  {
   "cell_type": "code",
   "execution_count": null,
   "id": "8c6ff702",
   "metadata": {},
   "outputs": [],
   "source": [
    "result = pd.DataFrame(result, columns=['lat', 'lon'])\n",
    "fig, ax = plt.subplots(figsize=[11, 8])\n",
    "rs_scatter = ax.scatter(result['lon'], result['lat'], c='m', edgecolor='None', alpha=0.3, s=120)\n",
    "df_scatter = ax.scatter(data['lon'], data['lat'], c='k', alpha=0.5, s=3)\n",
    "ax.set_title('Full data set vs DBSCAN reduce set')\n",
    "ax.set_xlabel('Longitude')\n",
    "ax.set_ylabel('Latitude')\n",
    "ax.legend([df_scatter, rs_scatter], ['Full set', 'Reduced set'], loc='upper right')\n",
    "plt.show()"
   ]
  },
  {
   "cell_type": "code",
   "execution_count": null,
   "id": "ef9e6f9f",
   "metadata": {},
   "outputs": [],
   "source": [
    "fig, ax = plt.subplots(figsize=[11, 8])\n",
    "rs_scatter = ax.scatter(result['lon'], result['lat'], c='m', edgecolor='None', alpha=0.3, s=120)\n",
    "df_scatter = ax.scatter(data['lon'], data['lat'], c='k', alpha=0.5, s=3)\n",
    "ax.set_title('Full data set vs DBSCAN reduce set')\n",
    "ax.set_xlabel('Longitude')\n",
    "ax.set_ylabel('Latitude')\n",
    "ax.set_xlim([-77.16, -77.06])\n",
    "ax.set_ylim([17.82, 17.90])\n",
    "ax.legend([df_scatter, rs_scatter], ['Full set', 'Reduced set'], loc='upper right')\n",
    "plt.show()"
   ]
  },
  {
   "cell_type": "code",
   "execution_count": null,
   "id": "372d9804",
   "metadata": {},
   "outputs": [],
   "source": []
  }
 ],
 "metadata": {
  "kernelspec": {
   "display_name": "Python 3 (ipykernel)",
   "language": "python",
   "name": "python3"
  },
  "language_info": {
   "codemirror_mode": {
    "name": "ipython",
    "version": 3
   },
   "file_extension": ".py",
   "mimetype": "text/x-python",
   "name": "python",
   "nbconvert_exporter": "python",
   "pygments_lexer": "ipython3",
   "version": "3.8.10"
  }
 },
 "nbformat": 4,
 "nbformat_minor": 5
}
